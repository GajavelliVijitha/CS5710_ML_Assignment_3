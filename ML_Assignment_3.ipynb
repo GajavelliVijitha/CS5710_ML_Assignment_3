{
 "cells": [
  {
   "cell_type": "code",
   "execution_count": 1,
   "id": "3e94e54b",
   "metadata": {
    "ExecuteTime": {
     "end_time": "2023-03-29T21:12:12.338019Z",
     "start_time": "2023-03-29T21:12:12.331934Z"
    }
   },
   "outputs": [],
   "source": [
    "import numpy as np"
   ]
  },
  {
   "cell_type": "markdown",
   "id": "cdef5ba9",
   "metadata": {},
   "source": [
    "### a. Using NumPy create random vector of size 15 having only Integers in the range 1-20."
   ]
  },
  {
   "cell_type": "code",
   "execution_count": null,
   "id": "ad886f03",
   "metadata": {
    "ExecuteTime": {
     "end_time": "2023-03-29T21:12:12.912170Z",
     "start_time": "2023-03-29T21:12:12.904834Z"
    }
   },
   "outputs": [
    {
     "ename": "",
     "evalue": "",
     "output_type": "error",
     "traceback": [
      "\u001b[1;31mRunning cells with 'Python 3.11.1 64-bit' requires ipykernel package.\n",
      "Run the following command to install 'ipykernel' into the Python environment. \n",
      "Command: 'c:/Users/pooji/AppData/Local/Programs/Python/Python311/python.exe -m pip install ipykernel -U --user --force-reinstall'"
     ]
    }
   ],
   "source": [
    "rndm_vecr = np.random.randint(1, 21, size=15)"
   ]
  },
  {
   "cell_type": "markdown",
   "id": "2455e9fb",
   "metadata": {},
   "source": [
    "##### 1. Reshape the array to 3 by 5"
   ]
  },
  {
   "cell_type": "code",
   "execution_count": null,
   "id": "06c909b9",
   "metadata": {
    "ExecuteTime": {
     "end_time": "2023-03-29T21:12:13.082827Z",
     "start_time": "2023-03-29T21:12:13.072717Z"
    }
   },
   "outputs": [
    {
     "ename": "",
     "evalue": "",
     "output_type": "error",
     "traceback": [
      "\u001b[1;31mRunning cells with 'Python 3.11.1 64-bit' requires ipykernel package.\n",
      "Run the following command to install 'ipykernel' into the Python environment. \n",
      "Command: 'c:/Users/pooji/AppData/Local/Programs/Python/Python311/python.exe -m pip install ipykernel -U --user --force-reinstall'"
     ]
    }
   ],
   "source": [
    "newarray = rndm_vecr.reshape((3, 5))"
   ]
  },
  {
   "cell_type": "markdown",
   "id": "62f57815",
   "metadata": {},
   "source": [
    "##### 2. Print array shape."
   ]
  },
  {
   "cell_type": "code",
   "execution_count": 4,
   "id": "2e388f11",
   "metadata": {
    "ExecuteTime": {
     "end_time": "2023-03-29T21:12:13.261870Z",
     "start_time": "2023-03-29T21:12:13.244899Z"
    }
   },
   "outputs": [
    {
     "name": "stdout",
     "output_type": "stream",
     "text": [
      "Array_shape: (3, 5)\n"
     ]
    }
   ],
   "source": [
    "print(\"Array_shape:\", newarray.shape)"
   ]
  },
  {
   "cell_type": "markdown",
   "id": "848afe7f",
   "metadata": {},
   "source": [
    "##### 3. Replace the max in each row by 0"
   ]
  },
  {
   "cell_type": "code",
   "execution_count": 5,
   "id": "79765832",
   "metadata": {
    "ExecuteTime": {
     "end_time": "2023-03-29T21:12:13.742088Z",
     "start_time": "2023-03-29T21:12:13.410433Z"
    }
   },
   "outputs": [
    {
     "ename": "IndexError",
     "evalue": "index 4 is out of bounds for axis 0 with size 3",
     "output_type": "error",
     "traceback": [
      "\u001b[0;31m---------------------------------------------------------------------------\u001b[0m",
      "\u001b[0;31mIndexError\u001b[0m                                Traceback (most recent call last)",
      "Input \u001b[0;32mIn [5]\u001b[0m, in \u001b[0;36m<cell line: 1>\u001b[0;34m()\u001b[0m\n\u001b[0;32m----> 1\u001b[0m newarray[newarray\u001b[38;5;241m.\u001b[39margmax(axis\u001b[38;5;241m=\u001b[39m\u001b[38;5;241m1\u001b[39m), np\u001b[38;5;241m.\u001b[39marange(newarray\u001b[38;5;241m.\u001b[39mshape[\u001b[38;5;241m0\u001b[39m])] \u001b[38;5;241m=\u001b[39m \u001b[38;5;241m0\u001b[39m\n\u001b[1;32m      2\u001b[0m \u001b[38;5;28mprint\u001b[39m(newarray)\n",
      "\u001b[0;31mIndexError\u001b[0m: index 4 is out of bounds for axis 0 with size 3"
     ]
    }
   ],
   "source": [
    "\n",
    "newarray[newarray.argmax(axis=1), np.arange(newarray.shape[0])] = 0\n",
    "print(newarray)\n"
   ]
  },
  {
   "cell_type": "markdown",
   "id": "eb3481a5",
   "metadata": {},
   "source": [
    "#### Create a 2-dimensional array of size 4 x 3 (composed of 4-byte integer elements), also print the shape, type and data type of the array."
   ]
  },
  {
   "cell_type": "code",
   "execution_count": null,
   "id": "b60a9b1e",
   "metadata": {
    "ExecuteTime": {
     "end_time": "2023-03-29T21:12:13.743101Z",
     "start_time": "2023-03-29T21:12:13.743094Z"
    }
   },
   "outputs": [],
   "source": [
    "two_d_array = np.zeros((4, 3), dtype=np.int32)\n",
    "\n",
    "\n",
    "print(\"Shape of the two dimesional array:\", two_d_array.shape)\n",
    "print(\"Type of the two dimesional array:\", type(two_d_array))\n",
    "print(\"Data type of the two dimesional array elements:\", two_d_array.dtype)\n"
   ]
  },
  {
   "cell_type": "markdown",
   "id": "381a67c4",
   "metadata": {},
   "source": [
    "#### b. Write a program to compute the eigenvalues and right eigenvectors of a given square array given below: [[ 3 -2] [ 1 0]]"
   ]
  },
  {
   "cell_type": "code",
   "execution_count": 6,
   "id": "44fe6fde",
   "metadata": {
    "ExecuteTime": {
     "end_time": "2023-03-29T21:12:13.749438Z",
     "start_time": "2023-03-29T21:12:13.746073Z"
    }
   },
   "outputs": [
    {
     "name": "stdout",
     "output_type": "stream",
     "text": [
      "Eigenvalues: [2. 1.]\n",
      "Right eigenvectors:\n",
      " [[0.89442719 0.70710678]\n",
      " [0.4472136  0.70710678]]\n"
     ]
    }
   ],
   "source": [
    "\n",
    "array_2 = np.array([[3, -2], [1, 0]])\n",
    "\n",
    "\n",
    "eigenvalues, right_eigenvectors = np.linalg.eig(array_2)\n",
    "\n",
    "# Print the results\n",
    "print(\"Eigenvalues:\", eigenvalues)\n",
    "print(\"Right eigenvectors:\\n\", right_eigenvectors)\n"
   ]
  },
  {
   "cell_type": "markdown",
   "id": "dfb4f57d",
   "metadata": {},
   "source": [
    "#### Compute the sum of the diagonal element of a given array [[0 1 2] [3 4 5]]"
   ]
  },
  {
   "cell_type": "code",
   "execution_count": 7,
   "id": "d4e1792f",
   "metadata": {
    "ExecuteTime": {
     "end_time": "2023-03-29T21:12:13.909634Z",
     "start_time": "2023-03-29T21:12:13.905806Z"
    }
   },
   "outputs": [
    {
     "name": "stdout",
     "output_type": "stream",
     "text": [
      "4\n"
     ]
    }
   ],
   "source": [
    "import numpy as np\n",
    "\n",
    "array = np.array([[0, 1, 2], [3, 4, 5]])\n",
    "\n",
    "diagonal_sum = np.trace(array)\n",
    "print(diagonal_sum)"
   ]
  },
  {
   "cell_type": "markdown",
   "id": "b8960a91",
   "metadata": {},
   "source": [
    "###### Write a NumPy program to create a new shape to an array without changing its data. Reshape 3x2:[[1 2][3 4][5 6]] Reshape 2x3: [[1 2 3][4 5 6]]"
   ]
  },
  {
   "cell_type": "code",
   "execution_count": 8,
   "id": "b6a327fe",
   "metadata": {
    "ExecuteTime": {
     "end_time": "2023-03-29T21:12:14.092838Z",
     "start_time": "2023-03-29T21:12:14.074368Z"
    }
   },
   "outputs": [
    {
     "name": "stdout",
     "output_type": "stream",
     "text": [
      "Original given array:\n",
      "[[1 2]\n",
      " [3 4]\n",
      " [5 6]]\n",
      "Our Reshaped array:\n",
      "[[1 2 3]\n",
      " [4 5 6]]\n"
     ]
    }
   ],
   "source": [
    "array = np.array([[1, 2], [3, 4], [5, 6]])\n",
    "\n",
    "\n",
    "new_array = array.reshape(2, 3)\n",
    "\n",
    "#lets print the array\n",
    "print(\"Original given array:\")\n",
    "print(array)\n",
    "print(\"Our Reshaped array:\")\n",
    "print(new_array)\n"
   ]
  },
  {
   "cell_type": "markdown",
   "id": "69a91032",
   "metadata": {},
   "source": [
    "## 2. Matplotlib\n",
    "#### 1. Write a Python programming to create a below chart of the popularity of programming Languages.\n",
    "#### 2. Sample data:\n",
    "#### Programming languages: Java, Python, PHP, JavaScript, C#, C++ Popularity: 22.2, 17.6, 8.8, 8, 7.7, 6.7"
   ]
  },
  {
   "cell_type": "code",
   "execution_count": 9,
   "id": "7d5f7310",
   "metadata": {
    "ExecuteTime": {
     "end_time": "2023-03-29T21:12:14.343305Z",
     "start_time": "2023-03-29T21:12:14.239949Z"
    }
   },
   "outputs": [
    {
     "data": {
      "image/png": "[encoded data removed]",
      "text/plain": [
       "<Figure size 432x288 with 1 Axes>"
      ]
     },
     "metadata": {},
     "output_type": "display_data"
    }
   ],
   "source": [
    "import matplotlib.pyplot as plt\n",
    "\n",
    "\n",
    "languages = ['Java', 'Python', 'PHP', 'JavaScript', 'C#', 'C++']\n",
    "popularity = [22.2, 17.6, 8.8, 8, 7.7, 6.7]\n",
    "explode=(0.1, 0, 0, 0,0,0)  \n",
    "\n",
    "#USING MATPLOTLIB pie we can plot as pie chart\n",
    "plt.pie(popularity, labels=languages, autopct='%1.1f%%',shadow=True,explode=explode)\n",
    "plt.title('Below chart represents Popularity of Programming Languages')\n",
    "plt.show()\n",
    "\n",
    "\n",
    "\n"
   ]
  }
 ],
 "metadata": {
  "kernelspec": {
   "display_name": "Python 3.11.1 64-bit",
   "language": "python",
   "name": "python3"
  },
  "language_info": {
   "codemirror_mode": {
    "name": "ipython",
    "version": 3
   },
   "file_extension": ".py",
   "mimetype": "text/x-python",
   "name": "python",
   "nbconvert_exporter": "python",
   "pygments_lexer": "ipython3",
   "version": "3.11.1"
  },
  "toc": {
   "base_numbering": 1,
   "nav_menu": {},
   "number_sections": true,
   "sideBar": true,
   "skip_h1_title": false,
   "title_cell": "Table of Contents",
   "title_sidebar": "Contents",
   "toc_cell": false,
   "toc_position": {},
   "toc_section_display": true,
   "toc_window_display": false
  },
  "vscode": {
   "interpreter": {
    "hash": "4b389d00820634335323ff6b22a23d5ea5ca8f1383a1b3eeb675b1b7babbb324"
   }
  }
 },
 "nbformat": 4,
 "nbformat_minor": 5
}
